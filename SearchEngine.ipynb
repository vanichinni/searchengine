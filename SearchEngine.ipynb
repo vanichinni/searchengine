{
 "cells": [
  {
   "cell_type": "markdown",
   "metadata": {},
   "source": [
    "# Search Engine : Will Perform Searches in this Notebook\n",
    "We will use Pairwise distance between query and questions stored in our database"
   ]
  },
  {
   "cell_type": "code",
   "execution_count": 109,
   "metadata": {},
   "outputs": [],
   "source": [
    "import warnings\n",
    "warnings.filterwarnings(\"ignore\")\n",
    "import pandas as pd\n",
    "import sqlite3\n",
    "import csv\n",
    "import matplotlib.pyplot as plt\n",
    "import seaborn as sns\n",
    "import numpy as np\n",
    "from wordcloud import WordCloud\n",
    "import re\n",
    "import os\n",
    "from sqlalchemy import create_engine # database connection\n",
    "from nltk.corpus import stopwords\n",
    "from nltk.tokenize import word_tokenize\n",
    "from nltk.stem.snowball import SnowballStemmer\n",
    "from sklearn.feature_extraction.text import CountVectorizer\n",
    "from sklearn.feature_extraction.text import TfidfVectorizer\n",
    "from sklearn import metrics\n",
    "from sklearn.metrics import f1_score,precision_score,recall_score\n",
    "from datetime import datetime\n",
    "from sklearn.metrics.pairwise import cosine_similarity  \n",
    "from sklearn.metrics import pairwise_distances"
   ]
  },
  {
   "cell_type": "code",
   "execution_count": 135,
   "metadata": {},
   "outputs": [],
   "source": [
    "con = sqlite3.connect('dataset/processed.db')\n",
    "processed = pd.read_sql_query(\"\"\"SELECT * FROM processed\"\"\", con)\n",
    "con.close()"
   ]
  },
  {
   "cell_type": "code",
   "execution_count": 136,
   "metadata": {},
   "outputs": [],
   "source": [
    "processed = processed.drop([\"index\"], axis=1)"
   ]
  },
  {
   "cell_type": "code",
   "execution_count": 144,
   "metadata": {},
   "outputs": [
    {
     "data": {
      "text/html": [
       "<div>\n",
       "<style scoped>\n",
       "    .dataframe tbody tr th:only-of-type {\n",
       "        vertical-align: middle;\n",
       "    }\n",
       "\n",
       "    .dataframe tbody tr th {\n",
       "        vertical-align: top;\n",
       "    }\n",
       "\n",
       "    .dataframe thead th {\n",
       "        text-align: right;\n",
       "    }\n",
       "</style>\n",
       "<table border=\"1\" class=\"dataframe\">\n",
       "  <thead>\n",
       "    <tr style=\"text-align: right;\">\n",
       "      <th></th>\n",
       "      <th>Title</th>\n",
       "      <th>Body</th>\n",
       "      <th>Tags</th>\n",
       "    </tr>\n",
       "  </thead>\n",
       "  <tbody>\n",
       "    <tr>\n",
       "      <th>0</th>\n",
       "      <td>implementing boundary value analysis software ...</td>\n",
       "      <td>&lt;pre&gt;&lt;code&gt;#include&amp;lt;iostream&amp;gt;\\n#include&amp;...</td>\n",
       "      <td>c++</td>\n",
       "    </tr>\n",
       "    <tr>\n",
       "      <th>1</th>\n",
       "      <td>dynamic datagrid binding silverlight</td>\n",
       "      <td>&lt;p&gt;I should do binding for datagrid dynamicall...</td>\n",
       "      <td>c#</td>\n",
       "    </tr>\n",
       "    <tr>\n",
       "      <th>2</th>\n",
       "      <td>dynamic datagrid binding silverlight</td>\n",
       "      <td>&lt;p&gt;I should do binding for datagrid dynamicall...</td>\n",
       "      <td>c#</td>\n",
       "    </tr>\n",
       "    <tr>\n",
       "      <th>3</th>\n",
       "      <td>java lang nosuchmethoderror javax servlet serv...</td>\n",
       "      <td>&lt;p&gt;i want to have a servlet to process inputs ...</td>\n",
       "      <td>java</td>\n",
       "    </tr>\n",
       "    <tr>\n",
       "      <th>4</th>\n",
       "      <td>specified initialization vector iv match block...</td>\n",
       "      <td>&lt;p&gt;I've had troubles using an CryptoStream for...</td>\n",
       "      <td>c#</td>\n",
       "    </tr>\n",
       "  </tbody>\n",
       "</table>\n",
       "</div>"
      ],
      "text/plain": [
       "                                               Title  \\\n",
       "0  implementing boundary value analysis software ...   \n",
       "1               dynamic datagrid binding silverlight   \n",
       "2               dynamic datagrid binding silverlight   \n",
       "3  java lang nosuchmethoderror javax servlet serv...   \n",
       "4  specified initialization vector iv match block...   \n",
       "\n",
       "                                                Body  Tags  \n",
       "0  <pre><code>#include&lt;iostream&gt;\\n#include&...   c++  \n",
       "1  <p>I should do binding for datagrid dynamicall...    c#  \n",
       "2  <p>I should do binding for datagrid dynamicall...    c#  \n",
       "3  <p>i want to have a servlet to process inputs ...  java  \n",
       "4  <p>I've had troubles using an CryptoStream for...    c#  "
      ]
     },
     "execution_count": 144,
     "metadata": {},
     "output_type": "execute_result"
    }
   ],
   "source": [
    "processed.head()"
   ]
  },
  {
   "cell_type": "code",
   "execution_count": 133,
   "metadata": {},
   "outputs": [
    {
     "data": {
      "text/plain": [
       "(572406, 68851)"
      ]
     },
     "execution_count": 133,
     "metadata": {},
     "output_type": "execute_result"
    }
   ],
   "source": [
    "vectorizer = CountVectorizer()\n",
    "bow_features = vectorizer.fit_transform(processed['Title'])\n",
    "bow_features.get_shape()"
   ]
  },
  {
   "cell_type": "code",
   "execution_count": 145,
   "metadata": {},
   "outputs": [
    {
     "data": {
      "text/plain": [
       "(572406, 68851)"
      ]
     },
     "execution_count": 145,
     "metadata": {},
     "output_type": "execute_result"
    }
   ],
   "source": [
    "# TFIDF vectorizer\n",
    "tfidf = TfidfVectorizer()\n",
    "tfidf_features = tfidf.fit_transform(processed.Title)\n",
    "tfidf_features.get_shape()"
   ]
  },
  {
   "cell_type": "code",
   "execution_count": 115,
   "metadata": {},
   "outputs": [],
   "source": [
    "# We will check for this String : dynamic datagrid binding silverlight"
   ]
  },
  {
   "cell_type": "code",
   "execution_count": 116,
   "metadata": {},
   "outputs": [],
   "source": [
    "def process_query(query):\n",
    "    preprocessed_reviews = []\n",
    "    sentance = re.sub(\"\\S*\\d\\S*\", \"\", query).strip()\n",
    "    sentance = re.sub('[^A-Za-z]+', ' ', sentance)\n",
    "    sentance = ' '.join(e.lower() for e in sentance.split() if e.lower() not in stopwords.words('english'))\n",
    "    preprocessed_reviews.append(sentance.strip())\n",
    "    return preprocessed_reviews"
   ]
  },
  {
   "cell_type": "code",
   "execution_count": 117,
   "metadata": {},
   "outputs": [],
   "source": [
    "def tfidf_search(tfidf, query):\n",
    "    query = process_query(query)\n",
    "    query_trans = tfidf.transform(query)\n",
    "    pairwise_dist = pairwise_distances(tfidf_features, query_trans)\n",
    "    \n",
    "    indices = np.argsort(pairwise_dist.flatten())[0:10]\n",
    "    df_indices = list(processed.index[indices])\n",
    "    return df_indices"
   ]
  },
  {
   "cell_type": "code",
   "execution_count": 118,
   "metadata": {},
   "outputs": [],
   "source": [
    "def bow_search(vectorizer, query):\n",
    "    query = process_query(query)\n",
    "    query_trans = vectorizer.transform(query)\n",
    "    pairwise_dist = pairwise_distances(bow_features, query_trans)\n",
    "    \n",
    "    indices = np.argsort(pairwise_dist.flatten())[0:10]\n",
    "    df_indices = list(processed.index[indices])\n",
    "    return df_indices"
   ]
  },
  {
   "cell_type": "code",
   "execution_count": 119,
   "metadata": {},
   "outputs": [],
   "source": [
    "def search(query, typ = \"tfidf\"):\n",
    "    if typ == \"tfidf\":\n",
    "        val = tfidf_search(tfidf, query)\n",
    "    else :\n",
    "        val = bow_search(vectorizer, query)\n",
    "    return val\n",
    "    "
   ]
  },
  {
   "cell_type": "code",
   "execution_count": 147,
   "metadata": {},
   "outputs": [],
   "source": [
    "query = \"synchronization \"\n",
    "df_indices = search(query)"
   ]
  },
  {
   "cell_type": "code",
   "execution_count": 148,
   "metadata": {},
   "outputs": [
    {
     "name": "stdout",
     "output_type": "stream",
     "text": [
      "The Query is :    synchronization \n",
      "Top Results : \n",
      "Title :  synchronization problems c using pthreads mutexes\n",
      "Title :  java excel date formatting\n",
      "Title :  java application servlet io exception\n",
      "Title :  java tabbed pane display icon close title\n",
      "Title :  android onsensorchanged wont work\n",
      "Title :  parse java date\n",
      "Title :  add runtime created playlist designer code runtime\n",
      "Title :  c abstract classes incomplete types\n",
      "Title :  c using library\n",
      "Title :  c threading memory leaks\n"
     ]
    }
   ],
   "source": [
    "print(\"The Query is :   \", query)\n",
    "print(\"Top Results : \")\n",
    "for i in (df_indices):\n",
    "    print(\"Title : \", processed.Title.iloc[i])"
   ]
  },
  {
   "cell_type": "code",
   "execution_count": 134,
   "metadata": {},
   "outputs": [
    {
     "name": "stdout",
     "output_type": "stream",
     "text": [
      "The Query is :    static variable issue \n",
      "Top Results : \n",
      "Title :  static variable value different background agent\n",
      "Title :  onclick return true false properly working\n",
      "Title :  c vector based two dimensional array objects\n",
      "Title :  operator definition arrays c\n",
      "Title :  static object initialisation\n",
      "Title :  run command emacs get output clickable buffer\n",
      "Title :  statusbar frame sticks portrait orientation occludes window view\n",
      "Title :  c string escape\n",
      "Title :  c many ways compiler optimizes away code\n",
      "Title :  c strings strlen valgrind\n"
     ]
    }
   ],
   "source": [
    "df_indices = search(query, \"bow\")\n",
    "print(\"The Query is :   \", query)\n",
    "print(\"Top Results : \")\n",
    "for i in (df_indices):\n",
    "    print(\"Title : \", processed.Title.iloc[i])"
   ]
  },
  {
   "cell_type": "markdown",
   "metadata": {},
   "source": [
    "Our results are getting better but not Very Good :  <br>\n",
    "So Lets use some machine learning to get better result"
   ]
  },
  {
   "cell_type": "markdown",
   "metadata": {},
   "source": [
    "   "
   ]
  }
 ],
 "metadata": {
  "kernelspec": {
   "display_name": "Python 3",
   "language": "python",
   "name": "python3"
  },
  "language_info": {
   "codemirror_mode": {
    "name": "ipython",
    "version": 3
   },
   "file_extension": ".py",
   "mimetype": "text/x-python",
   "name": "python",
   "nbconvert_exporter": "python",
   "pygments_lexer": "ipython3",
   "version": "3.7.3"
  }
 },
 "nbformat": 4,
 "nbformat_minor": 2
}
