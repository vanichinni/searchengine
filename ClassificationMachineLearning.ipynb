{
 "cells": [
  {
   "cell_type": "markdown",
   "metadata": {},
   "source": [
    "# Classify the Model then Search for answer \n",
    "\n",
    "Lets see if we can first predict the tag and then We will add the guessed Tag into the query and then will compare the distances of query and our database."
   ]
  },
  {
   "cell_type": "code",
   "execution_count": 1,
   "metadata": {},
   "outputs": [
    {
     "name": "stderr",
     "output_type": "stream",
     "text": [
      "/Users/lakshaychhabra/anaconda3/lib/python3.7/site-packages/sklearn/externals/joblib/__init__.py:15: DeprecationWarning: sklearn.externals.joblib is deprecated in 0.21 and will be removed in 0.23. Please import this functionality directly from joblib, which can be installed with: pip install joblib. If this warning is raised when loading pickled models, you may need to re-serialize those models with scikit-learn 0.21+.\n",
      "  warnings.warn(msg, category=DeprecationWarning)\n"
     ]
    }
   ],
   "source": [
    "import warnings\n",
    "warnings.filterwarnings(\"ignore\")\n",
    "import pandas as pd\n",
    "import sqlite3\n",
    "import csv\n",
    "import matplotlib.pyplot as plt\n",
    "import seaborn as sns\n",
    "import numpy as np\n",
    "from wordcloud import WordCloud\n",
    "import re\n",
    "import os\n",
    "from sqlalchemy import create_engine # database connection\n",
    "from nltk.corpus import stopwords\n",
    "from nltk.tokenize import word_tokenize\n",
    "from nltk.stem.snowball import SnowballStemmer\n",
    "from sklearn.feature_extraction.text import CountVectorizer\n",
    "from sklearn.feature_extraction.text import TfidfVectorizer\n",
    "from sklearn import metrics\n",
    "from sklearn.metrics import f1_score,precision_score,recall_score\n",
    "from datetime import datetime\n",
    "from sklearn.metrics.pairwise import cosine_similarity  \n",
    "from sklearn.metrics import pairwise_distances\n",
    "from sklearn.linear_model import SGDClassifier\n",
    "from sklearn.externals import joblib\n",
    "import scipy.sparse\n",
    "import pickle"
   ]
  },
  {
   "cell_type": "code",
   "execution_count": 2,
   "metadata": {},
   "outputs": [],
   "source": [
    "con = sqlite3.connect('dataset/processed.db')\n",
    "processed = pd.read_sql_query(\"\"\"SELECT * FROM processed\"\"\", con)\n",
    "con.close()"
   ]
  },
  {
   "cell_type": "code",
   "execution_count": 3,
   "metadata": {},
   "outputs": [],
   "source": [
    "processed = processed.drop([\"index\"], axis=1)"
   ]
  },
  {
   "cell_type": "code",
   "execution_count": 4,
   "metadata": {},
   "outputs": [
    {
     "data": {
      "text/html": [
       "<div>\n",
       "<style scoped>\n",
       "    .dataframe tbody tr th:only-of-type {\n",
       "        vertical-align: middle;\n",
       "    }\n",
       "\n",
       "    .dataframe tbody tr th {\n",
       "        vertical-align: top;\n",
       "    }\n",
       "\n",
       "    .dataframe thead th {\n",
       "        text-align: right;\n",
       "    }\n",
       "</style>\n",
       "<table border=\"1\" class=\"dataframe\">\n",
       "  <thead>\n",
       "    <tr style=\"text-align: right;\">\n",
       "      <th></th>\n",
       "      <th>Title</th>\n",
       "      <th>Body</th>\n",
       "      <th>Tags</th>\n",
       "    </tr>\n",
       "  </thead>\n",
       "  <tbody>\n",
       "    <tr>\n",
       "      <th>0</th>\n",
       "      <td>implementing boundary value analysis software ...</td>\n",
       "      <td>&lt;pre&gt;&lt;code&gt;#include&amp;lt;iostream&amp;gt;\\n#include&amp;...</td>\n",
       "      <td>c++</td>\n",
       "    </tr>\n",
       "    <tr>\n",
       "      <th>1</th>\n",
       "      <td>dynamic datagrid binding silverlight</td>\n",
       "      <td>&lt;p&gt;I should do binding for datagrid dynamicall...</td>\n",
       "      <td>c#</td>\n",
       "    </tr>\n",
       "    <tr>\n",
       "      <th>2</th>\n",
       "      <td>dynamic datagrid binding silverlight</td>\n",
       "      <td>&lt;p&gt;I should do binding for datagrid dynamicall...</td>\n",
       "      <td>c#</td>\n",
       "    </tr>\n",
       "    <tr>\n",
       "      <th>3</th>\n",
       "      <td>java lang nosuchmethoderror javax servlet serv...</td>\n",
       "      <td>&lt;p&gt;i want to have a servlet to process inputs ...</td>\n",
       "      <td>java</td>\n",
       "    </tr>\n",
       "    <tr>\n",
       "      <th>4</th>\n",
       "      <td>specified initialization vector iv match block...</td>\n",
       "      <td>&lt;p&gt;I've had troubles using an CryptoStream for...</td>\n",
       "      <td>c#</td>\n",
       "    </tr>\n",
       "  </tbody>\n",
       "</table>\n",
       "</div>"
      ],
      "text/plain": [
       "                                               Title  \\\n",
       "0  implementing boundary value analysis software ...   \n",
       "1               dynamic datagrid binding silverlight   \n",
       "2               dynamic datagrid binding silverlight   \n",
       "3  java lang nosuchmethoderror javax servlet serv...   \n",
       "4  specified initialization vector iv match block...   \n",
       "\n",
       "                                                Body  Tags  \n",
       "0  <pre><code>#include&lt;iostream&gt;\\n#include&...   c++  \n",
       "1  <p>I should do binding for datagrid dynamicall...    c#  \n",
       "2  <p>I should do binding for datagrid dynamicall...    c#  \n",
       "3  <p>i want to have a servlet to process inputs ...  java  \n",
       "4  <p>I've had troubles using an CryptoStream for...    c#  "
      ]
     },
     "execution_count": 4,
     "metadata": {},
     "output_type": "execute_result"
    }
   ],
   "source": [
    "# processed = processed[processed.Title != \"\"]\n",
    "processed.head()"
   ]
  },
  {
   "cell_type": "code",
   "execution_count": 5,
   "metadata": {},
   "outputs": [],
   "source": [
    "labels = {\"c#\" : 0, \"java\" : 1, \"c++\" : 2, \"c\" : 3, \"ios\" : 4}\n",
    "labels_map = { 0 : \"c#\" , 1 : \"java\" , 2 : \"c++\" , 3 : \"c\", 4 : \"ios\"}"
   ]
  },
  {
   "cell_type": "code",
   "execution_count": 6,
   "metadata": {},
   "outputs": [],
   "source": [
    "processed[\"Tags\"] = processed[\"Tags\"].map(labels)"
   ]
  },
  {
   "cell_type": "code",
   "execution_count": 7,
   "metadata": {},
   "outputs": [
    {
     "data": {
      "text/html": [
       "<div>\n",
       "<style scoped>\n",
       "    .dataframe tbody tr th:only-of-type {\n",
       "        vertical-align: middle;\n",
       "    }\n",
       "\n",
       "    .dataframe tbody tr th {\n",
       "        vertical-align: top;\n",
       "    }\n",
       "\n",
       "    .dataframe thead th {\n",
       "        text-align: right;\n",
       "    }\n",
       "</style>\n",
       "<table border=\"1\" class=\"dataframe\">\n",
       "  <thead>\n",
       "    <tr style=\"text-align: right;\">\n",
       "      <th></th>\n",
       "      <th>Title</th>\n",
       "      <th>Body</th>\n",
       "      <th>Tags</th>\n",
       "    </tr>\n",
       "  </thead>\n",
       "  <tbody>\n",
       "    <tr>\n",
       "      <th>0</th>\n",
       "      <td>implementing boundary value analysis software ...</td>\n",
       "      <td>&lt;pre&gt;&lt;code&gt;#include&amp;lt;iostream&amp;gt;\\n#include&amp;...</td>\n",
       "      <td>2</td>\n",
       "    </tr>\n",
       "    <tr>\n",
       "      <th>1</th>\n",
       "      <td>dynamic datagrid binding silverlight</td>\n",
       "      <td>&lt;p&gt;I should do binding for datagrid dynamicall...</td>\n",
       "      <td>0</td>\n",
       "    </tr>\n",
       "    <tr>\n",
       "      <th>2</th>\n",
       "      <td>dynamic datagrid binding silverlight</td>\n",
       "      <td>&lt;p&gt;I should do binding for datagrid dynamicall...</td>\n",
       "      <td>0</td>\n",
       "    </tr>\n",
       "    <tr>\n",
       "      <th>3</th>\n",
       "      <td>java lang nosuchmethoderror javax servlet serv...</td>\n",
       "      <td>&lt;p&gt;i want to have a servlet to process inputs ...</td>\n",
       "      <td>1</td>\n",
       "    </tr>\n",
       "    <tr>\n",
       "      <th>4</th>\n",
       "      <td>specified initialization vector iv match block...</td>\n",
       "      <td>&lt;p&gt;I've had troubles using an CryptoStream for...</td>\n",
       "      <td>0</td>\n",
       "    </tr>\n",
       "  </tbody>\n",
       "</table>\n",
       "</div>"
      ],
      "text/plain": [
       "                                               Title  \\\n",
       "0  implementing boundary value analysis software ...   \n",
       "1               dynamic datagrid binding silverlight   \n",
       "2               dynamic datagrid binding silverlight   \n",
       "3  java lang nosuchmethoderror javax servlet serv...   \n",
       "4  specified initialization vector iv match block...   \n",
       "\n",
       "                                                Body  Tags  \n",
       "0  <pre><code>#include&lt;iostream&gt;\\n#include&...     2  \n",
       "1  <p>I should do binding for datagrid dynamicall...     0  \n",
       "2  <p>I should do binding for datagrid dynamicall...     0  \n",
       "3  <p>i want to have a servlet to process inputs ...     1  \n",
       "4  <p>I've had troubles using an CryptoStream for...     0  "
      ]
     },
     "execution_count": 7,
     "metadata": {},
     "output_type": "execute_result"
    }
   ],
   "source": [
    "processed.head()"
   ]
  },
  {
   "cell_type": "code",
   "execution_count": 8,
   "metadata": {},
   "outputs": [],
   "source": [
    "X = processed.Title.values\n",
    "y = processed.Tags.values"
   ]
  },
  {
   "cell_type": "code",
   "execution_count": 205,
   "metadata": {},
   "outputs": [
    {
     "data": {
      "text/plain": [
       "((343506,), (114503,), (114503,))"
      ]
     },
     "execution_count": 205,
     "metadata": {},
     "output_type": "execute_result"
    }
   ],
   "source": [
    "from sklearn.model_selection import train_test_split\n",
    "\n",
    "X_train, X_test, y_train, y_test = train_test_split(X, y, test_size=0.20,stratify = y)\n",
    "X_train, X_cv, y_train, y_cv = train_test_split(X_train, y_train, test_size=0.25, stratify = y_train)\n",
    "X_train.shape, X_test.shape, X_cv.shape"
   ]
  },
  {
   "cell_type": "code",
   "execution_count": 83,
   "metadata": {},
   "outputs": [],
   "source": [
    "# On Unigram"
   ]
  },
  {
   "cell_type": "code",
   "execution_count": 206,
   "metadata": {},
   "outputs": [
    {
     "data": {
      "text/plain": [
       "((343506, 52506), (114503, 52506), (114503, 52506))"
      ]
     },
     "execution_count": 206,
     "metadata": {},
     "output_type": "execute_result"
    }
   ],
   "source": [
    "tfidf = TfidfVectorizer()\n",
    "X_train = tfidf.fit_transform(X_train)\n",
    "X_cv = tfidf.transform(X_cv)\n",
    "X_test = tfidf.transform(X_test)\n",
    "X_train.shape, X_cv.shape, X_test.shape"
   ]
  },
  {
   "cell_type": "code",
   "execution_count": 82,
   "metadata": {},
   "outputs": [],
   "source": [
    "from sklearn.metrics.classification import accuracy_score\n",
    "score_train = []\n",
    "score_cv = []\n",
    "for i in ([1e-9, 1e-8, 1e-7, 1e-6, 0.00001, 0.0001, 0.001, 0.01, 0.1]):\n",
    "    clf = SGDClassifier(alpha = i, loss = \"log\", class_weight=\"balanced\", n_jobs=-1)\n",
    "    clf.fit(X_train, y_train)\n",
    "    y_predict = clf.predict(X_train)\n",
    "    y_predict_cv = clf.predict(X_cv)\n",
    "    score_train.append(accuracy_score(y_train, y_predict))\n",
    "    score_cv.append(accuracy_score(y_cv, y_predict_cv))"
   ]
  },
  {
   "cell_type": "code",
   "execution_count": 92,
   "metadata": {},
   "outputs": [
    {
     "data": {
      "image/png": "[encoded data removed]",
      "text/plain": [
       "<Figure size 432x288 with 1 Axes>"
      ]
     },
     "metadata": {
      "needs_background": "light"
     },
     "output_type": "display_data"
    }
   ],
   "source": [
    "import matplotlib.pyplot as plt\n",
    "lis = [0.000000001, 0.00000001, 0.0000001, 0.000001, 0.00001, 0.0001, 0.001]\n",
    "plt.plot(score_train[:-2], lis, label = \"Train Accuracy\")\n",
    "plt.plot(score_cv[:-2], lis, label = \"Cv Accuracy\")\n",
    "plt.legend()\n",
    "plt.show()"
   ]
  },
  {
   "cell_type": "code",
   "execution_count": 103,
   "metadata": {},
   "outputs": [],
   "source": [
    "best_alpha = 1e-7"
   ]
  },
  {
   "cell_type": "code",
   "execution_count": 137,
   "metadata": {},
   "outputs": [
    {
     "name": "stdout",
     "output_type": "stream",
     "text": [
      "The Accuracy of model is :  0.7585035202040495\n"
     ]
    }
   ],
   "source": [
    "from sklearn.metrics.classification import confusion_matrix\n",
    "import seaborn as sns\n",
    "clf = SGDClassifier(alpha = best_alpha, loss = \"log\", class_weight=\"balanced\", n_jobs=-1)\n",
    "clf.fit(X_train, y_train)\n",
    "y_predict = clf.predict(X_test)\n",
    "acc = accuracy_score(y_test, y_predict)\n",
    "cm = confusion_matrix(y_test, y_predict)\n",
    "print(\"The Accuracy of model is : \", acc)"
   ]
  },
  {
   "cell_type": "code",
   "execution_count": 101,
   "metadata": {},
   "outputs": [
    {
     "data": {
      "text/plain": [
       "<matplotlib.axes._subplots.AxesSubplot at 0x1a45858208>"
      ]
     },
     "execution_count": 101,
     "metadata": {},
     "output_type": "execute_result"
    },
    {
     "data": {
      "image/png": "[encoded data removed]",
      "text/plain": [
       "<Figure size 432x288 with 2 Axes>"
      ]
     },
     "metadata": {
      "needs_background": "light"
     },
     "output_type": "display_data"
    }
   ],
   "source": [
    "x_ax = [\"c#\", \"java\", \"c++\", \"c\", \"ios\"]\n",
    "y_ax = [\"c#\", \"java\", \"c++\", \"c\", \"ios\"]\n",
    "sns.heatmap(cm, annot = True, fmt=\"d\", xticklabels=x_ax, yticklabels=y_ax)"
   ]
  },
  {
   "cell_type": "code",
   "execution_count": 102,
   "metadata": {},
   "outputs": [],
   "source": [
    "# We are observing as Maximum of data belongs to c# and Java\n",
    "# hence it tend to be majority class. Confusion between C and C++"
   ]
  },
  {
   "cell_type": "code",
   "execution_count": null,
   "metadata": {},
   "outputs": [],
   "source": [
    "# Lets See how SVM will perform"
   ]
  },
  {
   "cell_type": "code",
   "execution_count": 106,
   "metadata": {},
   "outputs": [],
   "source": [
    "score_train = []\n",
    "score_cv = []\n",
    "for i in ([1e-9, 1e-8, 1e-7, 1e-6, 0.00001, 0.0001]):\n",
    "    clf = SGDClassifier(alpha = i, class_weight=\"balanced\", n_jobs=-1)\n",
    "    clf.fit(X_train, y_train)\n",
    "    y_predict = clf.predict(X_train)\n",
    "    y_predict_cv = clf.predict(X_cv)\n",
    "    score_train.append(accuracy_score(y_train, y_predict))\n",
    "    score_cv.append(accuracy_score(y_cv, y_predict_cv))"
   ]
  },
  {
   "cell_type": "code",
   "execution_count": 113,
   "metadata": {},
   "outputs": [
    {
     "data": {
      "image/png": "[encoded data removed]",
      "text/plain": [
       "<Figure size 432x288 with 1 Axes>"
      ]
     },
     "metadata": {
      "needs_background": "light"
     },
     "output_type": "display_data"
    }
   ],
   "source": [
    "lis = [0.000000001, 0.00000001, 0.0000001, 0.000001, 0.00001, 0.0001]\n",
    "plt.plot(lis, score_train, label = \"Train Accuracy\")\n",
    "plt.plot(lis, score_cv, label = \"Cv Accuracy\")\n",
    "plt.legend()\n",
    "plt.show()"
   ]
  },
  {
   "cell_type": "code",
   "execution_count": 111,
   "metadata": {},
   "outputs": [],
   "source": [
    "best_alpha = 1e-6"
   ]
  },
  {
   "cell_type": "code",
   "execution_count": 112,
   "metadata": {},
   "outputs": [
    {
     "name": "stdout",
     "output_type": "stream",
     "text": [
      "The Accuracy of model is :  0.7510875072063731\n"
     ]
    },
    {
     "data": {
      "text/plain": [
       "<matplotlib.axes._subplots.AxesSubplot at 0x1a514b6e48>"
      ]
     },
     "execution_count": 112,
     "metadata": {},
     "output_type": "execute_result"
    },
    {
     "data": {
      "image/png": "[encoded data removed]",
      "text/plain": [
       "<Figure size 432x288 with 2 Axes>"
      ]
     },
     "metadata": {
      "needs_background": "light"
     },
     "output_type": "display_data"
    }
   ],
   "source": [
    "clf = SGDClassifier(alpha = best_alpha, class_weight=\"balanced\", n_jobs=-1)\n",
    "clf.fit(X_train, y_train)\n",
    "y_predict = clf.predict(X_test)\n",
    "acc = accuracy_score(y_test, y_predict)\n",
    "cm = confusion_matrix(y_test, y_predict)\n",
    "print(\"The Accuracy of model is : \", acc)\n",
    "sns.heatmap(cm, annot = True, fmt=\"d\", xticklabels=x_ax, yticklabels=y_ax)"
   ]
  },
  {
   "cell_type": "code",
   "execution_count": 120,
   "metadata": {},
   "outputs": [],
   "source": [
    "# Just Similar Kind of Accuracy, Now Lets See If doing bigrams Helps\n",
    "import random\n",
    "random.seed(42)"
   ]
  },
  {
   "cell_type": "code",
   "execution_count": 121,
   "metadata": {},
   "outputs": [
    {
     "data": {
      "text/plain": [
       "((343443,), (114482,), (114481,))"
      ]
     },
     "execution_count": 121,
     "metadata": {},
     "output_type": "execute_result"
    }
   ],
   "source": [
    "X_train, X_test, y_train, y_test = train_test_split(X, y, test_size=0.20,stratify = y)\n",
    "X_train, X_cv, y_train, y_cv = train_test_split(X_train, y_train, test_size=0.25, stratify = y_train)\n",
    "X_train.shape, X_test.shape, X_cv.shape"
   ]
  },
  {
   "cell_type": "code",
   "execution_count": 122,
   "metadata": {},
   "outputs": [
    {
     "data": {
      "text/plain": [
       "((343443, 703980), (114481, 703980), (114482, 703980))"
      ]
     },
     "execution_count": 122,
     "metadata": {},
     "output_type": "execute_result"
    }
   ],
   "source": [
    "tfidf = TfidfVectorizer(ngram_range=(2,2))\n",
    "X_train = tfidf.fit_transform(X_train)\n",
    "X_cv = tfidf.transform(X_cv)\n",
    "X_test = tfidf.transform(X_test)\n",
    "X_train.shape, X_cv.shape, X_test.shape"
   ]
  },
  {
   "cell_type": "code",
   "execution_count": 123,
   "metadata": {},
   "outputs": [],
   "source": [
    "score_train = []\n",
    "score_cv = []\n",
    "for i in ([1e-9, 1e-8, 1e-7, 1e-6, 0.00001, 0.0001]):\n",
    "    clf = SGDClassifier(alpha = i, loss = \"log\", class_weight=\"balanced\", n_jobs=-1)\n",
    "    clf.fit(X_train, y_train)\n",
    "    y_predict = clf.predict(X_train)\n",
    "    y_predict_cv = clf.predict(X_cv)\n",
    "    score_train.append(accuracy_score(y_train, y_predict))\n",
    "    score_cv.append(accuracy_score(y_cv, y_predict_cv))"
   ]
  },
  {
   "cell_type": "code",
   "execution_count": null,
   "metadata": {},
   "outputs": [
    {
     "ename": "",
     "evalue": "",
     "output_type": "error",
     "traceback": [
      "\u001b[1;31mRunning cells with 'Python 3.10.4 64-bit' requires ipykernel package.\n",
      "Run the following command to install 'ipykernel' into the Python environment. \n",
      "Command: 'C:/Python310/python.exe -m pip install ipykernel -U --user --force-reinstall'"
     ]
    }
   ],
   "source": [
    "lis = [0.000000001, 0.00000001, 0.0000001, 0.000001, 0.00001, 0.0001]\n",
    "plt.plot(score_train, lis, label = \"Train Accuracy\")\n",
    "plt.plot(score_cv, lis, label = \"Cv Accuracy\")\n",
    "plt.legend()\n",
    "plt.show()"
   ]
  },
  {
   "cell_type": "code",
   "execution_count": 126,
   "metadata": {},
   "outputs": [],
   "source": [
    "# CASE OF OVERFITTING\n",
    "best_alpha = 0.000001"
   ]
  },
  {
   "cell_type": "code",
   "execution_count": 127,
   "metadata": {},
   "outputs": [
    {
     "name": "stdout",
     "output_type": "stream",
     "text": [
      "The Accuracy of model is :  0.6587323771422582\n"
     ]
    }
   ],
   "source": [
    "clf = SGDClassifier(alpha = best_alpha, loss = \"log\", class_weight=\"balanced\", n_jobs=-1)\n",
    "clf.fit(X_train, y_train)\n",
    "y_predict = clf.predict(X_test)\n",
    "acc = accuracy_score(y_test, y_predict)\n",
    "cm = confusion_matrix(y_test, y_predict)\n",
    "print(\"The Accuracy of model is : \", acc)"
   ]
  },
  {
   "cell_type": "code",
   "execution_count": null,
   "metadata": {},
   "outputs": [],
   "source": [
    "# Hence Bigrams are not useful so no need to go further for checking"
   ]
  },
  {
   "cell_type": "code",
   "execution_count": 175,
   "metadata": {},
   "outputs": [],
   "source": [
    "# So lets Take our clf_final which is classifier from LR on Unigram"
   ]
  },
  {
   "cell_type": "code",
   "execution_count": 9,
   "metadata": {},
   "outputs": [
    {
     "data": {
      "text/plain": [
       "(572512, 68851)"
      ]
     },
     "execution_count": 9,
     "metadata": {},
     "output_type": "execute_result"
    }
   ],
   "source": [
    "tfidf = TfidfVectorizer()\n",
    "data = tfidf.fit_transform(processed.Title)\n",
    "data.shape"
   ]
  },
  {
   "cell_type": "code",
   "execution_count": 10,
   "metadata": {},
   "outputs": [],
   "source": [
    "scipy.sparse.save_npz('data.npz', data)"
   ]
  },
  {
   "cell_type": "code",
   "execution_count": 10,
   "metadata": {},
   "outputs": [],
   "source": [
    "data = scipy.sparse.load_npz('dataset/data.npz')"
   ]
  },
  {
   "cell_type": "code",
   "execution_count": 11,
   "metadata": {},
   "outputs": [],
   "source": [
    "y = processed.Tags.values"
   ]
  },
  {
   "cell_type": "code",
   "execution_count": 11,
   "metadata": {},
   "outputs": [],
   "source": [
    "filename = 'dataset/y'\n",
    "\n",
    "\n",
    "# outfile = open(filename,'wb')\n",
    "# pickle.dump(y,outfile)\n",
    "# outfile.close()\n",
    "\n",
    "infile = open(filename,'rb')\n",
    "y = pickle.load(infile)"
   ]
  },
  {
   "cell_type": "code",
   "execution_count": 13,
   "metadata": {},
   "outputs": [],
   "source": [
    "filename = 'dataset/tfidf.sav'\n",
    "# joblib.dump(tfidf, filename)\n",
    "tfidf = joblib.load(filename)"
   ]
  },
  {
   "cell_type": "code",
   "execution_count": 17,
   "metadata": {},
   "outputs": [
    {
     "data": {
      "text/plain": [
       "SGDClassifier(alpha=1e-07, average=False, class_weight='balanced',\n",
       "              early_stopping=False, epsilon=0.1, eta0=0.0, fit_intercept=True,\n",
       "              l1_ratio=0.15, learning_rate='optimal', loss='log', max_iter=1000,\n",
       "              n_iter_no_change=5, n_jobs=-1, penalty='l2', power_t=0.5,\n",
       "              random_state=None, shuffle=True, tol=0.001,\n",
       "              validation_fraction=0.1, verbose=0, warm_start=False)"
      ]
     },
     "execution_count": 17,
     "metadata": {},
     "output_type": "execute_result"
    }
   ],
   "source": [
    "clf_final = SGDClassifier(alpha = 1e-7, loss = \"log\", class_weight=\"balanced\", n_jobs=-1)\n",
    "clf_final.fit(data, y)"
   ]
  },
  {
   "cell_type": "code",
   "execution_count": 21,
   "metadata": {},
   "outputs": [],
   "source": [
    "filename = 'dataset/clf_final.sav'\n",
    "# joblib.dump(clf_final, filename)"
   ]
  },
  {
   "cell_type": "code",
   "execution_count": 22,
   "metadata": {},
   "outputs": [],
   "source": [
    "clf_final = joblib.load(filename)"
   ]
  },
  {
   "cell_type": "code",
   "execution_count": 21,
   "metadata": {},
   "outputs": [],
   "source": [
    "query = \"global static variable vs static variable function\""
   ]
  },
  {
   "cell_type": "code",
   "execution_count": 22,
   "metadata": {},
   "outputs": [],
   "source": [
    "# Now we will add this return label into the title and then we will search for\n",
    "# the Similar queries to see the improvement"
   ]
  },
  {
   "cell_type": "code",
   "execution_count": 15,
   "metadata": {},
   "outputs": [],
   "source": [
    "def process_query(query):\n",
    "    preprocessed_reviews = []\n",
    "    sentance = re.sub(\"\\S*\\d\\S*\", \"\", query).strip()\n",
    "    sentance = re.sub('[^A-Za-z]+', ' ', sentance)\n",
    "    sentance = ' '.join(e.lower() for e in sentance.split() if e.lower() not in stopwords.words('english'))\n",
    "    preprocessed_reviews.append(sentance.strip())\n",
    "    return preprocessed_reviews\n",
    "\n",
    "def tfidf_search(query):\n",
    "    query = process_query(query)\n",
    "    query_trans = tfidf.transform(query)\n",
    "    pairwise_dist = pairwise_distances(data, query_trans)\n",
    "    \n",
    "    indices = np.argsort(pairwise_dist.flatten())[0:10]\n",
    "    df_indices = list(processed.index[indices])\n",
    "    return df_indices\n",
    "\n",
    "\n",
    "def label(query):\n",
    "    query = process_query(query)\n",
    "    query = tfidf.transform(query)\n",
    "    ans = clf_final.predict(query)\n",
    "    return labels_map[ans[0]]\n",
    "\n",
    "\n",
    "def change_query(query):\n",
    "    tag = label(query)\n",
    "    return query + \" \" + tag"
   ]
  },
  {
   "cell_type": "code",
   "execution_count": 16,
   "metadata": {},
   "outputs": [],
   "source": [
    "def enter_queries(query) : \n",
    "    print(\"The Query is :\", query)\n",
    "    query = change_query(query)\n",
    "    df_indices = tfidf_search(query)\n",
    "    print(\"The Model Interpreted Query is :\", query)\n",
    "    print(\"Top Results : \")\n",
    "    for i in (df_indices):\n",
    "        print(\"Title : \", processed.Title.iloc[i])"
   ]
  },
  {
   "cell_type": "code",
   "execution_count": 23,
   "metadata": {},
   "outputs": [
    {
     "name": "stdout",
     "output_type": "stream",
     "text": [
      "The Query is : synchronization\n",
      "The Model Interpreted Query is : synchronization java\n",
      "Top Results : \n",
      "Title :  java synchronization\n",
      "Title :  java synchronization\n",
      "Title :  java synchronization\n",
      "Title :  synchronization\n",
      "Title :  java synchronization code\n",
      "Title :  java array synchronization\n",
      "Title :  java method synchronization\n",
      "Title :  synchronization thread java\n",
      "Title :  thread synchronization java\n",
      "Title :  java synchronization problem\n"
     ]
    }
   ],
   "source": [
    "query = \"synchronization\"\n",
    "enter_queries(query)"
   ]
  },
  {
   "cell_type": "markdown",
   "metadata": {},
   "source": [
    "### Note : We are getting Indices from the Database, Also we have Body of the dataset. We can make an api system where after a query user can redirected to that thread where the body of question is solved"
   ]
  },
  {
   "cell_type": "markdown",
   "metadata": {},
   "source": [
    "<pre>\n",
    "In previous notebook where we used only Distances was giving other results related to other languages also but after using Machine learning we can see the results have improved. And are query Oriented.\n",
    "</pre>"
   ]
  },
  {
   "cell_type": "markdown",
   "metadata": {},
   "source": [
    "# Future Improvement : \n",
    "We can make a web api to do what is mentioned in Note\n",
    "\n"
   ]
  }
 ],
 "metadata": {
  "kernelspec": {
   "display_name": "Python 3",
   "language": "python",
   "name": "python3"
  },
  "language_info": {
   "codemirror_mode": {
    "name": "ipython",
    "version": 3
   },
   "file_extension": ".py",
   "mimetype": "text/x-python",
   "name": "python",
   "nbconvert_exporter": "python",
   "pygments_lexer": "ipython3",
   "version": "3.10.4"
  }
 },
 "nbformat": 4,
 "nbformat_minor": 2
}
